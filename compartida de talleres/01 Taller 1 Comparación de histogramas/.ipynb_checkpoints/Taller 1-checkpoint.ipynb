{
 "cells": [
  {
   "cell_type": "markdown",
   "metadata": {},
   "source": [
    "# Taller #1 Comparación de histogramas \n"
   ]
  },
  {
   "cell_type": "code",
   "execution_count": 2,
   "metadata": {},
   "outputs": [
    {
     "name": "stdout",
     "output_type": "stream",
     "text": [
      "Las librerias se han importado correctamente\n"
     ]
    }
   ],
   "source": [
    "import cv2\n",
    "from matplotlib import pyplot as plt\n",
    "import ipywidgets as widgets\n",
    "from ipywidgets import interact, interact_manual\n",
    "print('Las librerias se han importado correctamente')"
   ]
  },
  {
   "cell_type": "code",
   "execution_count": 3,
   "metadata": {},
   "outputs": [],
   "source": [
    "image_light = cv2.imread('Fig/light.jpg',0)\n",
    "image_medium = cv2.imread('Fig/medium.jpg',0)\n",
    "image_low = cv2.imread('Fig/low.jpg',0)"
   ]
  },
  {
   "cell_type": "code",
   "execution_count": 4,
   "metadata": {},
   "outputs": [
    {
     "data": {
      "image/png": "[encoded data removed]",
      "text/plain": [
       "<Figure size 432x288 with 3 Axes>"
      ]
     },
     "metadata": {
      "needs_background": "light"
     },
     "output_type": "display_data"
    }
   ],
   "source": [
    "plt.figure(1)\n",
    "plt.subplot(131), plt.imshow(image_light,cmap='gray'), plt.title('Light') \n",
    "plt.subplot(132), plt.imshow(image_medium,cmap='gray'), plt.title('Medium') \n",
    "plt.subplot(133), plt.imshow(image_low,cmap='gray'), plt.title('Low') \n",
    "\n",
    "plt.subplots_adjust(top=0.95, bottom=0.05, left=0.10, right=0.95, hspace=0.25, wspace=0.5)\n",
    "\n",
    "plt.show()"
   ]
  },
  {
   "cell_type": "code",
   "execution_count": 5,
   "metadata": {},
   "outputs": [
    {
     "name": "stdout",
     "output_type": "stream",
     "text": [
      "La imagen con iluminación [alta] tiene un tamaño de [(2033, 2794)]\n",
      "La imagen con iluminación [media] tiene un tamaño de [(2259, 3395)]\n",
      "La imagen con iluminación [baja] tiene un tamaño de [(2303, 2780)]\n"
     ]
    }
   ],
   "source": [
    "print(f'La imagen con iluminación [alta] tiene un tamaño de [{image_light.shape}]')\n",
    "print(f'La imagen con iluminación [media] tiene un tamaño de [{image_medium.shape}]')\n",
    "print(f'La imagen con iluminación [baja] tiene un tamaño de [{image_low.shape}]')"
   ]
  },
  {
   "cell_type": "markdown",
   "metadata": {},
   "source": [
    "##### Calculo del histograma: "
   ]
  },
  {
   "cell_type": "code",
   "execution_count": 6,
   "metadata": {},
   "outputs": [
    {
     "name": "stdout",
     "output_type": "stream",
     "text": [
      "Por favor escoger la cantidad de BIN'S\n"
     ]
    },
    {
     "data": {
      "application/vnd.jupyter.widget-view+json": {
       "model_id": "d6234b7e128245ce9d6a5b7bda9c2595",
       "version_major": 2,
       "version_minor": 0
      },
      "text/plain": [
       "interactive(children=(Dropdown(description='bin', options=(256, 128, 64, 32, 16, 8, 4, 2), value=256), Output(…"
      ]
     },
     "metadata": {},
     "output_type": "display_data"
    }
   ],
   "source": [
    "print('Por favor escoger la cantidad de BIN\\'S')\n",
    "\n",
    "@interact\n",
    "def bins_valor(bin=[256,128,64,32,16,8,4,2]):\n",
    "    global hist_light\n",
    "    global hist_medium\n",
    "    global hist_low\n",
    "    \n",
    "    hist_light = cv2.calcHist([image_light],[0],None,[bin],[0,256])\n",
    "    hist_medium = cv2.calcHist([image_medium],[0],None,[bin],[0,256])\n",
    "    hist_low = cv2.calcHist([image_low],[0],None,[bin],[0,256])\n",
    "    \n",
    "    plt.figure(1)\n",
    "    plt.subplot(131), plt.plot(hist_light), plt.title('histogram Ligh')\n",
    "    plt.subplot(132), plt.plot(hist_medium), plt.title('histogram medium')\n",
    "    plt.subplot(133), plt.plot(hist_low), plt.title('histogram low')\n",
    "\n",
    "    plt.subplots_adjust(top=0.9, bottom=0.1, left=0.10, right=0.95, hspace=0.25, wspace=0.9)\n",
    "\n",
    "    plt.show()\n"
   ]
  },
  {
   "cell_type": "markdown",
   "metadata": {},
   "source": [
    "#### Comparando los histogramas sin normalizar:  \n",
    "---\n",
    "1. Por el método de Correlación: "
   ]
  },
  {
   "cell_type": "code",
   "execution_count": 7,
   "metadata": {},
   "outputs": [
    {
     "name": "stdout",
     "output_type": "stream",
     "text": [
      "Por favor escoger la cantidad de BIN'S\n"
     ]
    },
    {
     "data": {
      "application/vnd.jupyter.widget-view+json": {
       "model_id": "392bdedb114c471ba318adbc5931b9d2",
       "version_major": 2,
       "version_minor": 0
      },
      "text/plain": [
       "interactive(children=(Dropdown(description='bin', options=(256, 128, 64, 32, 16, 8, 4, 2), value=256), Output(…"
      ]
     },
     "metadata": {},
     "output_type": "display_data"
    }
   ],
   "source": [
    "print('Por favor escoger la cantidad de BIN\\'S')\n",
    "\n",
    "@interact\n",
    "def bins_valor(bin=[256,128,64,32,16,8,4,2]):\n",
    "    global hist_light\n",
    "    global hist_medium\n",
    "    global hist_low\n",
    "    \n",
    "    hist_light = cv2.calcHist([image_light],[0],None,[bin],[0,256])\n",
    "    hist_medium = cv2.calcHist([image_medium],[0],None,[bin],[0,256])\n",
    "    hist_low = cv2.calcHist([image_low],[0],None,[bin],[0,256])\n",
    "\n",
    "    correlation_light_light = cv2.compareHist(hist_light,hist_light, method=cv2.HISTCMP_CORREL)\n",
    "    correlation_light_medium = cv2.compareHist(hist_light,hist_medium, method=cv2.HISTCMP_CORREL)\n",
    "    correlation_light_low = cv2.compareHist(hist_light,hist_low, method=cv2.HISTCMP_CORREL)\n",
    "    correlation_medium_medium = cv2.compareHist(hist_medium,hist_medium, method=cv2.HISTCMP_CORREL)\n",
    "    correlation_medium_low = cv2.compareHist(hist_medium,hist_low, method=cv2.HISTCMP_CORREL)\n",
    "    correlation_low_low = cv2.compareHist(hist_low,hist_low, method=cv2.HISTCMP_CORREL)\n",
    "\n",
    "    print('Comparando los histogramas sin normalizar por el método de la correlación se obtiene: ')\n",
    "    print('ligh con light %2.3f'%(correlation_light_light))\n",
    "    print('light con medium %2.3f'%(correlation_light_medium))\n",
    "    print('ligh con low %2.3f'%(correlation_light_low))\n",
    "    print('medium con medium %2.3f'%(correlation_medium_medium))\n",
    "    print('medium con low %2.3f'%(correlation_medium_low))\n",
    "    print('low con low %2.3f'%(correlation_low_low))"
   ]
  },
  {
   "cell_type": "markdown",
   "metadata": {},
   "source": [
    "#### Comparación de los valores obtenidos segun la cantidad de Bin's usados por el método de correlación:"
   ]
  },
  {
   "cell_type": "markdown",
   "metadata": {},
   "source": [
    "<style type=\"text/css\">\n",
    ".tg  {border-collapse:collapse;border-spacing:0;border-color:#ccc;margin:0px auto;}\n",
    ".tg td{font-family:Arial, sans-serif;font-size:14px;padding:10px 5px;border-style:solid;border-width:1px;overflow:hidden;word-break:normal;border-color:#ccc;color:#333;background-color:#fff;}\n",
    ".tg th{font-family:Arial, sans-serif;font-size:14px;font-weight:normal;padding:10px 5px;border-style:solid;border-width:1px;overflow:hidden;word-break:normal;border-color:#ccc;color:#333;background-color:#f0f0f0;}\n",
    ".tg .tg-baqh{text-align:center;vertical-align:top}\n",
    ".tg .tg-ihln{font-weight:bold;font-style:italic;text-align:center;vertical-align:top}\n",
    ".tg .tg-rz9m{text-align:center;vertical-align:top;position:sticky;position:-webkit-sticky;top:-1px;will-change:transform}\n",
    ".tg .tg-6t95{font-weight:bold;text-align:center;vertical-align:top;position:sticky;position:-webkit-sticky;top:-1px;will-change:transform}\n",
    ".tg .tg-nrix{text-align:center;vertical-align:middle}\n",
    ".tg .tg-amwm{font-weight:bold;text-align:center;vertical-align:top}\n",
    "</style>\n",
    "<table class=\"tg\">\n",
    "  <tr>\n",
    "    <th class=\"tg-rz9m\"></th>\n",
    "    <th class=\"tg-rz9m\"></th>\n",
    "    <th class=\"tg-6t95\" colspan=\"8\">BIN'S<br></th>\n",
    "  </tr>\n",
    "  <tr>\n",
    "    <td class=\"tg-nrix\"></td>\n",
    "    <td class=\"tg-baqh\"></td>\n",
    "    <td class=\"tg-amwm\">2</td>\n",
    "    <td class=\"tg-amwm\">4</td>\n",
    "    <td class=\"tg-amwm\">8</td>\n",
    "    <td class=\"tg-amwm\">16</td>\n",
    "    <td class=\"tg-amwm\">32</td>\n",
    "    <td class=\"tg-amwm\">64</td>\n",
    "    <td class=\"tg-amwm\">128</td>\n",
    "    <td class=\"tg-amwm\">256</td>\n",
    "  </tr>\n",
    "  <tr>\n",
    "    <td class=\"tg-ihln\">Light</td>\n",
    "    <td class=\"tg-ihln\">Light</td>\n",
    "    <td class=\"tg-baqh\">1</td>\n",
    "    <td class=\"tg-baqh\">1</td>\n",
    "    <td class=\"tg-baqh\">1</td>\n",
    "    <td class=\"tg-baqh\">1</td>\n",
    "    <td class=\"tg-baqh\">1</td>\n",
    "    <td class=\"tg-baqh\">1</td>\n",
    "    <td class=\"tg-baqh\">1</td>\n",
    "    <td class=\"tg-baqh\">1</td>\n",
    "  </tr>\n",
    "  <tr>\n",
    "    <td class=\"tg-ihln\">Light</td>\n",
    "    <td class=\"tg-ihln\">Medium</td>\n",
    "    <td class=\"tg-baqh\">1<br></td>\n",
    "    <td class=\"tg-baqh\">0.756</td>\n",
    "    <td class=\"tg-baqh\">0.440</td>\n",
    "    <td class=\"tg-baqh\">0.375</td>\n",
    "    <td class=\"tg-baqh\">0.364</td>\n",
    "    <td class=\"tg-baqh\">0.349</td>\n",
    "    <td class=\"tg-baqh\">0.347</td>\n",
    "    <td class=\"tg-baqh\">0.346</td>\n",
    "  </tr>\n",
    "  <tr>\n",
    "    <td class=\"tg-ihln\">Light</td>\n",
    "    <td class=\"tg-ihln\">Low</td>\n",
    "    <td class=\"tg-baqh\">1</td>\n",
    "    <td class=\"tg-baqh\">0.296</td>\n",
    "    <td class=\"tg-baqh\">0.638</td>\n",
    "    <td class=\"tg-baqh\">0.563</td>\n",
    "    <td class=\"tg-baqh\">0.533</td>\n",
    "    <td class=\"tg-baqh\">0.532</td>\n",
    "    <td class=\"tg-baqh\">0.526</td>\n",
    "    <td class=\"tg-baqh\">0.524</td>\n",
    "  </tr>\n",
    "  <tr>\n",
    "    <td class=\"tg-ihln\">Medium<br></td>\n",
    "    <td class=\"tg-ihln\">Medium</td>\n",
    "    <td class=\"tg-baqh\">1</td>\n",
    "    <td class=\"tg-baqh\">1</td>\n",
    "    <td class=\"tg-baqh\">1</td>\n",
    "    <td class=\"tg-baqh\">1</td>\n",
    "    <td class=\"tg-baqh\">1</td>\n",
    "    <td class=\"tg-baqh\">1</td>\n",
    "    <td class=\"tg-baqh\">1</td>\n",
    "    <td class=\"tg-baqh\">1</td>\n",
    "  </tr>\n",
    "  <tr>\n",
    "    <td class=\"tg-ihln\">Medium</td>\n",
    "    <td class=\"tg-ihln\">low</td>\n",
    "    <td class=\"tg-baqh\">1</td>\n",
    "    <td class=\"tg-baqh\">0.834</td>\n",
    "    <td class=\"tg-baqh\">0.560</td>\n",
    "    <td class=\"tg-baqh\">0.428<br></td>\n",
    "    <td class=\"tg-baqh\">0.404</td>\n",
    "    <td class=\"tg-baqh\">0.397</td>\n",
    "    <td class=\"tg-baqh\">0.396</td>\n",
    "    <td class=\"tg-baqh\">0.393</td>\n",
    "  </tr>\n",
    "  <tr>\n",
    "    <td class=\"tg-ihln\">Low </td>\n",
    "    <td class=\"tg-ihln\">Low</td>\n",
    "    <td class=\"tg-baqh\">1</td>\n",
    "    <td class=\"tg-baqh\">1</td>\n",
    "    <td class=\"tg-baqh\">1</td>\n",
    "    <td class=\"tg-baqh\">1</td>\n",
    "    <td class=\"tg-baqh\">1</td>\n",
    "    <td class=\"tg-baqh\">1</td>\n",
    "    <td class=\"tg-baqh\">1</td>\n",
    "    <td class=\"tg-baqh\"><br>1</td>\n",
    "  </tr>\n",
    "</table>"
   ]
  },
  {
   "cell_type": "markdown",
   "metadata": {},
   "source": [
    "a. Como es de esperarse por el método de la correlación cuando se compara una imagen con ella misma el resultado es 1.  \n",
    "\n",
    "b. Vemos que a medida que aumenta el número de Bin's usados para el cálculo del histograma disminuye el error del cálculo de la correlación.  \n",
    "c. Vemos que al usar 2 Bin's el error es tan grande que por el método de correlación significa que todas las imagenes son iguales, lo cual es una falsedad."
   ]
  },
  {
   "cell_type": "code",
   "execution_count": 8,
   "metadata": {},
   "outputs": [
    {
     "name": "stdout",
     "output_type": "stream",
     "text": [
      "Grafica del valor de correlación en función del número de Ben's\n"
     ]
    },
    {
     "data": {
      "image/png": "[encoded data removed]",
      "text/plain": [
       "<Figure size 432x288 with 3 Axes>"
      ]
     },
     "metadata": {
      "needs_background": "light"
     },
     "output_type": "display_data"
    }
   ],
   "source": [
    "x = [2,4,8,16,32,64,128,256]\n",
    "light_medium = [1,0.756,0.440,0.375,0.364,0.349,0.47,0.346]\n",
    "light_low = [1,0.296,0.638,0.563,0.533,0.532,0.526,0.524]\n",
    "medium_low = [1,0.834,0.560,0.428,0.404,0.397,0.396,0.393]\n",
    "print('Grafica del valor de correlación en función del número de Ben\\'s')\n",
    "plt.figure(1)\n",
    "plt.subplot(131), plt.plot(x,light_medium),plt.title('Light vs Medium')\n",
    "plt.subplot(132), plt.plot(x,light_low),plt.title('Light vs Low')\n",
    "plt.subplot(133), plt.plot(x,medium_low),plt.title('Medium vs Low')\n",
    "plt.subplots_adjust(top=0.95, bottom=0.05, left=0.10, right=0.95, hspace=0.25, wspace=0.5)\n",
    "\n",
    "plt.show()"
   ]
  },
  {
   "cell_type": "markdown",
   "metadata": {},
   "source": [
    "d. Como se observa en las gráficas anteriores a medida que el número de Ben's usados aumenta también aumenta la certeza que se tiene sobre la correlación entre las imagenes usadas. "
   ]
  },
  {
   "cell_type": "markdown",
   "metadata": {},
   "source": [
    "---\n",
    "2. Por el método de Chi-Cuadrado: "
   ]
  },
  {
   "cell_type": "code",
   "execution_count": 9,
   "metadata": {},
   "outputs": [
    {
     "name": "stdout",
     "output_type": "stream",
     "text": [
      "Por favor escoger la cantidad de BIN'S\n"
     ]
    },
    {
     "data": {
      "application/vnd.jupyter.widget-view+json": {
       "model_id": "35fd5bf6985e4a1693c5fcfbeb1d6a98",
       "version_major": 2,
       "version_minor": 0
      },
      "text/plain": [
       "interactive(children=(Dropdown(description='bin', options=(256, 128, 64, 32, 16, 8, 4, 2), value=256), Output(…"
      ]
     },
     "metadata": {},
     "output_type": "display_data"
    }
   ],
   "source": [
    "print('Por favor escoger la cantidad de BIN\\'S')\n",
    "\n",
    "@interact\n",
    "def bins_valor(bin=[256,128,64,32,16,8,4,2]):\n",
    "    global hist_light\n",
    "    global hist_medium\n",
    "    global hist_low\n",
    "    \n",
    "    hist_light = cv2.calcHist([image_light],[0],None,[bin],[0,256])\n",
    "    hist_medium = cv2.calcHist([image_medium],[0],None,[bin],[0,256])\n",
    "    hist_low = cv2.calcHist([image_low],[0],None,[bin],[0,256])\n",
    "\n",
    "    correlation_chi_light_light = cv2.compareHist(hist_light,hist_light, method=cv2.HISTCMP_CHISQR)\n",
    "    correlation_chi_light_medium = cv2.compareHist(hist_light,hist_medium, method=cv2.HISTCMP_CHISQR)\n",
    "    correlation_chi_light_low = cv2.compareHist(hist_light,hist_low, method=cv2.HISTCMP_CHISQR)\n",
    "    correlation_chi_medium_medium = cv2.compareHist(hist_medium,hist_medium, method=cv2.HISTCMP_CHISQR)\n",
    "    correlation_chi_medium_low = cv2.compareHist(hist_medium,hist_low, method=cv2.HISTCMP_CHISQR)\n",
    "    correlation_chi_low_low = cv2.compareHist(hist_low,hist_low, method=cv2.HISTCMP_CHISQR)\n",
    "\n",
    "    print('Comparando los histogramas sin normalizar por el método Chi-Cuadrado se obtiene: ')\n",
    "    print('ligh con light %2.3f'%(correlation_chi_light_light))\n",
    "    print('ligh con medium %2.3f'%(correlation_chi_light_medium))\n",
    "    print('ligh con low %2.3f'%(correlation_chi_light_low))\n",
    "    print('medium con medium %2.3f'%(correlation_chi_medium_medium))\n",
    "    print('medium con low %2.3f'%(correlation_chi_medium_low))\n",
    "    print('low con low %2.3f'%(correlation_chi_low_low))"
   ]
  },
  {
   "cell_type": "markdown",
   "metadata": {},
   "source": [
    "#### Comparación de los valores obtenidos segun la cantidad de Bin's usados por el método de Chi-Cuadrado:"
   ]
  },
  {
   "cell_type": "markdown",
   "metadata": {},
   "source": [
    "<style type=\"text/css\">\n",
    ".tg  {border-collapse:collapse;border-spacing:0;border-color:#ccc;margin:0px auto;}\n",
    ".tg td{font-family:Arial, sans-serif;font-size:14px;padding:10px 5px;border-style:solid;border-width:1px;overflow:hidden;word-break:normal;border-color:#ccc;color:#333;background-color:#fff;}\n",
    ".tg th{font-family:Arial, sans-serif;font-size:14px;font-weight:normal;padding:10px 5px;border-style:solid;border-width:1px;overflow:hidden;word-break:normal;border-color:#ccc;color:#333;background-color:#f0f0f0;}\n",
    ".tg .tg-9wq8{border-color:inherit;text-align:center;vertical-align:middle}\n",
    ".tg .tg-ih3h{border-color:inherit;text-align:center;vertical-align:top;position:sticky;position:-webkit-sticky;top:-1px;will-change:transform}\n",
    ".tg .tg-zyik{font-weight:bold;border-color:inherit;text-align:center;vertical-align:top;position:sticky;position:-webkit-sticky;top:-1px;will-change:transform}\n",
    ".tg .tg-c3ow{border-color:inherit;text-align:center;vertical-align:top}\n",
    ".tg .tg-7btt{font-weight:bold;border-color:inherit;text-align:center;vertical-align:top}\n",
    ".tg .tg-rvyq{font-weight:bold;font-style:italic;border-color:inherit;text-align:center;vertical-align:top}\n",
    "</style>\n",
    "<table class=\"tg\">\n",
    "  <tr>\n",
    "    <th class=\"tg-ih3h\"></th>\n",
    "    <th class=\"tg-ih3h\"></th>\n",
    "    <th class=\"tg-zyik\" colspan=\"5\">BIN'S<br></th>\n",
    "  </tr>\n",
    "  <tr>\n",
    "    <td class=\"tg-9wq8\"></td>\n",
    "    <td class=\"tg-c3ow\"></td>\n",
    "    <td class=\"tg-7btt\">2</td>\n",
    "    <td class=\"tg-7btt\">8</td>\n",
    "    <td class=\"tg-7btt\">64</td>\n",
    "    <td class=\"tg-7btt\">128</td>\n",
    "    <td class=\"tg-7btt\">256</td>\n",
    "  </tr>\n",
    "  <tr>\n",
    "    <td class=\"tg-rvyq\">Light</td>\n",
    "    <td class=\"tg-rvyq\">Light</td>\n",
    "    <td class=\"tg-c3ow\">0</td>\n",
    "    <td class=\"tg-c3ow\">0</td>\n",
    "    <td class=\"tg-c3ow\">0</td>\n",
    "    <td class=\"tg-c3ow\">0</td>\n",
    "    <td class=\"tg-c3ow\">0</td>\n",
    "  </tr>\n",
    "  <tr>\n",
    "    <td class=\"tg-rvyq\">Light</td>\n",
    "    <td class=\"tg-rvyq\">Medium</td>\n",
    "    <td class=\"tg-c3ow\">8694940</td>\n",
    "    <td class=\"tg-c3ow\">96458012</td>\n",
    "    <td class=\"tg-c3ow\">172601953</td>\n",
    "    <td class=\"tg-c3ow\">178983814</td>\n",
    "    <td class=\"tg-c3ow\">181025781</td>\n",
    "  </tr>\n",
    "  <tr>\n",
    "    <td class=\"tg-rvyq\">Light</td>\n",
    "    <td class=\"tg-rvyq\">Low</td>\n",
    "    <td class=\"tg-c3ow\">18181732</td>\n",
    "    <td class=\"tg-c3ow\">55498427</td>\n",
    "    <td class=\"tg-c3ow\">119811363</td>\n",
    "    <td class=\"tg-c3ow\">125798350</td>\n",
    "    <td class=\"tg-c3ow\">127964020</td>\n",
    "  </tr>\n",
    "  <tr>\n",
    "    <td class=\"tg-rvyq\">Medium<br></td>\n",
    "    <td class=\"tg-rvyq\">Medium</td>\n",
    "    <td class=\"tg-c3ow\">0</td>\n",
    "    <td class=\"tg-c3ow\">0</td>\n",
    "    <td class=\"tg-c3ow\">0</td>\n",
    "    <td class=\"tg-c3ow\">0</td>\n",
    "    <td class=\"tg-c3ow\">0</td>\n",
    "  </tr>\n",
    "  <tr>\n",
    "    <td class=\"tg-rvyq\">Medium</td>\n",
    "    <td class=\"tg-rvyq\">low</td>\n",
    "    <td class=\"tg-c3ow\">1041602</td>\n",
    "    <td class=\"tg-c3ow\">4867468</td>\n",
    "    <td class=\"tg-c3ow\">11785402</td>\n",
    "    <td class=\"tg-c3ow\">12327489</td>\n",
    "    <td class=\"tg-c3ow\">12515296</td>\n",
    "  </tr>\n",
    "  <tr>\n",
    "    <td class=\"tg-rvyq\">Low </td>\n",
    "    <td class=\"tg-rvyq\">Low</td>\n",
    "    <td class=\"tg-c3ow\">0</td>\n",
    "    <td class=\"tg-c3ow\">0</td>\n",
    "    <td class=\"tg-c3ow\">0</td>\n",
    "    <td class=\"tg-c3ow\">0</td>\n",
    "    <td class=\"tg-c3ow\">0</td>\n",
    "  </tr>\n",
    "</table>"
   ]
  },
  {
   "cell_type": "markdown",
   "metadata": {},
   "source": [
    "a. Vemos que cuando se compara la imagen con ella misma por el método de chi-cuadrado el re-sultado es 0, es decir, existe una correlación perfecta entre ella misma, lo cual es obvio.    \n",
    "\n",
    "b. Vemos que al no estar normalizados los Histogramas los resultados de comprar las imagenes es absurdamente gigante, por ello, se recomienda normalizar los histogramas antes de aplicar el método.  \n",
    "\n",
    "---"
   ]
  },
  {
   "cell_type": "markdown",
   "metadata": {},
   "source": [
    "3. Por el método Intersección: "
   ]
  },
  {
   "cell_type": "code",
   "execution_count": 10,
   "metadata": {},
   "outputs": [
    {
     "name": "stdout",
     "output_type": "stream",
     "text": [
      "Por favor escoger la cantidad de BIN'S\n"
     ]
    },
    {
     "data": {
      "application/vnd.jupyter.widget-view+json": {
       "model_id": "1aaa84cde6284036a95c55ffb139ad87",
       "version_major": 2,
       "version_minor": 0
      },
      "text/plain": [
       "interactive(children=(Dropdown(description='bin', options=(256, 128, 64, 32, 16, 8, 4, 2), value=256), Output(…"
      ]
     },
     "metadata": {},
     "output_type": "display_data"
    }
   ],
   "source": [
    "print('Por favor escoger la cantidad de BIN\\'S')\n",
    "\n",
    "@interact\n",
    "def bins_valor(bin=[256,128,64,32,16,8,4,2]):\n",
    "    global hist_light\n",
    "    global hist_medium\n",
    "    global hist_low\n",
    "    \n",
    "    hist_light = cv2.calcHist([image_light],[0],None,[bin],[0,256])\n",
    "    hist_medium = cv2.calcHist([image_medium],[0],None,[bin],[0,256])\n",
    "    hist_low = cv2.calcHist([image_low],[0],None,[bin],[0,256])\n",
    "\n",
    "    intersection_light_light = cv2.compareHist(hist_light,hist_light, method=cv2.HISTCMP_INTERSECT)\n",
    "    intersection_light_medium = cv2.compareHist(hist_light,hist_medium, method=cv2.HISTCMP_INTERSECT)\n",
    "    intersection_light_low = cv2.compareHist(hist_light,hist_low, method=cv2.HISTCMP_INTERSECT)\n",
    "    intersection_medium_medium = cv2.compareHist(hist_medium,hist_medium, method=cv2.HISTCMP_INTERSECT)\n",
    "    intersection_medium_low = cv2.compareHist(hist_medium,hist_low, method=cv2.HISTCMP_INTERSECT)\n",
    "    intersection_low_low = cv2.compareHist(hist_low,hist_low, method=cv2.HISTCMP_INTERSECT)\n",
    "\n",
    "    print('Comparando los histogramas sin normalizar por el método de la correlación se obtiene: ')\n",
    "    print('ligh con light %2.3f'%(intersection_light_light))\n",
    "    print('light con medium %2.3f'%(intersection_light_medium))\n",
    "    print('ligh con low %2.3f'%(intersection_light_low))\n",
    "    print('medium con medium %2.3f'%(intersection_medium_medium))\n",
    "    print('medium con low %2.3f'%(intersection_medium_low))\n",
    "    print('low con low %2.3f'%(intersection_low_low))"
   ]
  },
  {
   "cell_type": "markdown",
   "metadata": {},
   "source": [
    "<style type=\"text/css\">\n",
    ".tg  {border-collapse:collapse;border-spacing:0;border-color:#ccc;margin:0px auto;}\n",
    ".tg td{font-family:Arial, sans-serif;font-size:14px;padding:10px 5px;border-style:solid;border-width:1px;overflow:hidden;word-break:normal;border-color:#ccc;color:#333;background-color:#fff;}\n",
    ".tg th{font-family:Arial, sans-serif;font-size:14px;font-weight:normal;padding:10px 5px;border-style:solid;border-width:1px;overflow:hidden;word-break:normal;border-color:#ccc;color:#333;background-color:#f0f0f0;}\n",
    ".tg .tg-9wq8{border-color:inherit;text-align:center;vertical-align:middle}\n",
    ".tg .tg-ih3h{border-color:inherit;text-align:center;vertical-align:top;position:sticky;position:-webkit-sticky;top:-1px;will-change:transform}\n",
    ".tg .tg-zyik{font-weight:bold;border-color:inherit;text-align:center;vertical-align:top;position:sticky;position:-webkit-sticky;top:-1px;will-change:transform}\n",
    ".tg .tg-c3ow{border-color:inherit;text-align:center;vertical-align:top}\n",
    ".tg .tg-7btt{font-weight:bold;border-color:inherit;text-align:center;vertical-align:top}\n",
    ".tg .tg-rvyq{font-weight:bold;font-style:italic;border-color:inherit;text-align:center;vertical-align:top}\n",
    "</style>\n",
    "<table class=\"tg\">\n",
    "  <tr>\n",
    "    <th class=\"tg-ih3h\"></th>\n",
    "    <th class=\"tg-ih3h\"></th>\n",
    "    <th class=\"tg-zyik\" colspan=\"5\">BIN'S<br></th>\n",
    "  </tr>\n",
    "  <tr>\n",
    "    <td class=\"tg-9wq8\"></td>\n",
    "    <td class=\"tg-c3ow\"></td>\n",
    "    <td class=\"tg-7btt\">2</td>\n",
    "    <td class=\"tg-7btt\">8</td>\n",
    "    <td class=\"tg-7btt\">64</td>\n",
    "    <td class=\"tg-7btt\">128</td>\n",
    "    <td class=\"tg-7btt\">256</td>\n",
    "  </tr>\n",
    "  <tr>\n",
    "    <td class=\"tg-rvyq\">Light</td>\n",
    "    <td class=\"tg-rvyq\">Light</td>\n",
    "    <td class=\"tg-c3ow\">5680202</td>\n",
    "    <td class=\"tg-c3ow\">5680202</td>\n",
    "    <td class=\"tg-c3ow\">5680202</td>\n",
    "    <td class=\"tg-c3ow\">5680202</td>\n",
    "    <td class=\"tg-c3ow\">5680202</td>\n",
    "  </tr>\n",
    "  <tr>\n",
    "    <td class=\"tg-rvyq\">Light</td>\n",
    "    <td class=\"tg-rvyq\">Medium</td>\n",
    "    <td class=\"tg-c3ow\">5680202</td>\n",
    "    <td class=\"tg-c3ow\">3498054</td>\n",
    "    <td class=\"tg-c3ow\">2253424</td>\n",
    "    <td class=\"tg-c3ow\">2191277</td>\n",
    "    <td class=\"tg-c3ow\">2188785</td>\n",
    "  </tr>\n",
    "  <tr>\n",
    "    <td class=\"tg-rvyq\">Light</td>\n",
    "    <td class=\"tg-rvyq\">Low</td>\n",
    "    <td class=\"tg-c3ow\">3763061</td>\n",
    "    <td class=\"tg-c3ow\">3339401</td>\n",
    "    <td class=\"tg-c3ow\">2367749</td>\n",
    "    <td class=\"tg-c3ow\">2285415</td>\n",
    "    <td class=\"tg-c3ow\">2280872</td>\n",
    "  </tr>\n",
    "  <tr>\n",
    "    <td class=\"tg-rvyq\">Medium<br></td>\n",
    "    <td class=\"tg-rvyq\">Medium</td>\n",
    "    <td class=\"tg-c3ow\">7669305</td>\n",
    "    <td class=\"tg-c3ow\">7669305</td>\n",
    "    <td class=\"tg-c3ow\">7669305</td>\n",
    "    <td class=\"tg-c3ow\">7669305</td>\n",
    "    <td class=\"tg-c3ow\">7669305</td>\n",
    "  </tr>\n",
    "  <tr>\n",
    "    <td class=\"tg-rvyq\">Medium</td>\n",
    "    <td class=\"tg-rvyq\">low</td>\n",
    "    <td class=\"tg-c3ow\">5623850</td>\n",
    "    <td class=\"tg-c3ow\">5085772</td>\n",
    "    <td class=\"tg-c3ow\">4042364</td>\n",
    "    <td class=\"tg-c3ow\">4033376</td>\n",
    "    <td class=\"tg-c3ow\">4000169</td>\n",
    "  </tr>\n",
    "  <tr>\n",
    "    <td class=\"tg-rvyq\">Low </td>\n",
    "    <td class=\"tg-rvyq\">Low</td>\n",
    "    <td class=\"tg-c3ow\">6402340</td>\n",
    "    <td class=\"tg-c3ow\">6402340</td>\n",
    "    <td class=\"tg-c3ow\">6402340</td>\n",
    "    <td class=\"tg-c3ow\">6402340</td>\n",
    "    <td class=\"tg-c3ow\">6402340</td>\n",
    "  </tr>\n",
    "</table>"
   ]
  },
  {
   "cell_type": "markdown",
   "metadata": {},
   "source": [
    "#### Comparación de los valores obtenidos segun la cantidad de Bin's usados por el método de intersección:"
   ]
  },
  {
   "cell_type": "markdown",
   "metadata": {},
   "source": [
    "a. Vemos que la comparación entre la misma imágen retorna un valor grande por este método, el cual se mantiene constante sin importar el número de bin's usados.  \n",
    "\n",
    "b. Vemos que el método retorna valores absurdamente grandes, esto es debido a que los histogramas no estan normalizados. Por ello una comparación a priori es un díficil.  \n",
    "\n",
    "c. De igual manera se aprecia que a medida que aumenta la cantidad de bin's usados también disminuye la diferencia entre cada valor.   \n",
    "\n",
    "d. De igual manera vemos que el error del método comienza alto y disminuye a medida que se utilizan más bin's para su cálculo."
   ]
  },
  {
   "cell_type": "code",
   "execution_count": 11,
   "metadata": {},
   "outputs": [
    {
     "name": "stdout",
     "output_type": "stream",
     "text": [
      "Grafica del valor por el método de insercción en función del número de Ben's\n"
     ]
    },
    {
     "data": {
      "image/png": "[encoded data removed]",
      "text/plain": [
       "<Figure size 432x288 with 3 Axes>"
      ]
     },
     "metadata": {
      "needs_background": "light"
     },
     "output_type": "display_data"
    }
   ],
   "source": [
    "x = [2,8,64,128,256]\n",
    "light_medium = [5680202,3498054,2253424,2191277,2188785]\n",
    "light_low = [3763061,3339401,2367749,2285415,2280872]\n",
    "medium_low = [5623850,5085772,4042364,4033376,4000169]\n",
    "print('Grafica del valor por el método de insercción en función del número de Ben\\'s')\n",
    "plt.figure(1)\n",
    "plt.subplot(131), plt.plot(x,light_medium),plt.title('Light vs Medium')\n",
    "plt.subplot(132), plt.plot(x,light_low),plt.title('Light vs Low')\n",
    "plt.subplot(133), plt.plot(x,medium_low),plt.title('Medium vs Low')\n",
    "plt.subplots_adjust(top=0.95, bottom=0.05, left=0.10, right=0.95, hspace=0.25, wspace=0.95)\n",
    "\n",
    "plt.show()"
   ]
  },
  {
   "cell_type": "markdown",
   "metadata": {},
   "source": [
    "---"
   ]
  },
  {
   "cell_type": "markdown",
   "metadata": {},
   "source": [
    "4. Por el método Distancia de Bhattacharyya"
   ]
  },
  {
   "cell_type": "code",
   "execution_count": 12,
   "metadata": {},
   "outputs": [
    {
     "name": "stdout",
     "output_type": "stream",
     "text": [
      "Por favor escoger la cantidad de BIN'S\n"
     ]
    },
    {
     "data": {
      "application/vnd.jupyter.widget-view+json": {
       "model_id": "46a806f1496242ccb8ca81c4f986fc0c",
       "version_major": 2,
       "version_minor": 0
      },
      "text/plain": [
       "interactive(children=(Dropdown(description='bin', options=(256, 128, 64, 32, 16, 8, 4, 2), value=256), Output(…"
      ]
     },
     "metadata": {},
     "output_type": "display_data"
    }
   ],
   "source": [
    "print('Por favor escoger la cantidad de BIN\\'S')\n",
    "\n",
    "@interact\n",
    "def bins_valor(bin=[256,128,64,32,16,8,4,2]):\n",
    "    global hist_light\n",
    "    global hist_medium\n",
    "    global hist_low\n",
    "    \n",
    "    hist_light = cv2.calcHist([image_light],[0],None,[bin],[0,256])\n",
    "    hist_medium = cv2.calcHist([image_medium],[0],None,[bin],[0,256])\n",
    "    hist_low = cv2.calcHist([image_low],[0],None,[bin],[0,256])\n",
    "\n",
    "    d_bha_light_light = cv2.compareHist(hist_light,hist_light, method=cv2.HISTCMP_BHATTACHARYYA)\n",
    "    d_bha_light_medium = cv2.compareHist(hist_light,hist_medium, method=cv2.HISTCMP_BHATTACHARYYA)\n",
    "    d_bha_light_low = cv2.compareHist(hist_light,hist_low, method=cv2.HISTCMP_BHATTACHARYYA)\n",
    "    d_bha_medium_medium = cv2.compareHist(hist_medium,hist_medium, method=cv2.HISTCMP_BHATTACHARYYA)\n",
    "    d_bha_medium_low = cv2.compareHist(hist_medium,hist_low, method=cv2.HISTCMP_BHATTACHARYYA)\n",
    "    d_bha_low_low = cv2.compareHist(hist_low,hist_low, method=cv2.HISTCMP_BHATTACHARYYA)\n",
    "\n",
    "    print('Comparando los histogramas sin normalizar por el método de la correlación se obtiene: ')\n",
    "    print('ligh con light %2.3f'%(d_bha_light_light))\n",
    "    print('light con medium %2.3f'%(d_bha_light_medium))\n",
    "    print('ligh con low %2.3f'%(d_bha_light_low))\n",
    "    print('medium con medium %2.3f'%(d_bha_medium_medium))\n",
    "    print('medium con low %2.3f'%(d_bha_medium_low))\n",
    "    print('low con low %2.3f'%(d_bha_low_low))"
   ]
  },
  {
   "cell_type": "markdown",
   "metadata": {},
   "source": [
    "#### Comparación de los valores obtenidos segun la cantidad de Bin's usados por el método de Distancia de Bhattacharyya:"
   ]
  },
  {
   "cell_type": "markdown",
   "metadata": {},
   "source": [
    "<style type=\"text/css\">\n",
    ".tg  {border-collapse:collapse;border-spacing:0;border-color:#ccc;margin:0px auto;}\n",
    ".tg td{font-family:Arial, sans-serif;font-size:14px;padding:10px 5px;border-style:solid;border-width:1px;overflow:hidden;word-break:normal;border-color:#ccc;color:#333;background-color:#fff;}\n",
    ".tg th{font-family:Arial, sans-serif;font-size:14px;font-weight:normal;padding:10px 5px;border-style:solid;border-width:1px;overflow:hidden;word-break:normal;border-color:#ccc;color:#333;background-color:#f0f0f0;}\n",
    ".tg .tg-9wq8{border-color:inherit;text-align:center;vertical-align:middle}\n",
    ".tg .tg-ih3h{border-color:inherit;text-align:center;vertical-align:top;position:sticky;position:-webkit-sticky;top:-1px;will-change:transform}\n",
    ".tg .tg-zyik{font-weight:bold;border-color:inherit;text-align:center;vertical-align:top;position:sticky;position:-webkit-sticky;top:-1px;will-change:transform}\n",
    ".tg .tg-c3ow{border-color:inherit;text-align:center;vertical-align:top}\n",
    ".tg .tg-7btt{font-weight:bold;border-color:inherit;text-align:center;vertical-align:top}\n",
    ".tg .tg-rvyq{font-weight:bold;font-style:italic;border-color:inherit;text-align:center;vertical-align:top}\n",
    "</style>\n",
    "<table class=\"tg\">\n",
    "  <tr>\n",
    "    <th class=\"tg-ih3h\"></th>\n",
    "    <th class=\"tg-ih3h\"></th>\n",
    "    <th class=\"tg-zyik\" colspan=\"5\">BIN'S<br></th>\n",
    "  </tr>\n",
    "  <tr>\n",
    "    <td class=\"tg-9wq8\"></td>\n",
    "    <td class=\"tg-c3ow\"></td>\n",
    "    <td class=\"tg-7btt\">2</td>\n",
    "    <td class=\"tg-7btt\">8</td>\n",
    "    <td class=\"tg-7btt\">64</td>\n",
    "    <td class=\"tg-7btt\">128</td>\n",
    "    <td class=\"tg-7btt\">256</td>\n",
    "  </tr>\n",
    "  <tr>\n",
    "    <td class=\"tg-rvyq\">Light</td>\n",
    "    <td class=\"tg-rvyq\">Light</td>\n",
    "    <td class=\"tg-c3ow\">0</td>\n",
    "    <td class=\"tg-c3ow\">0</td>\n",
    "    <td class=\"tg-c3ow\">0</td>\n",
    "    <td class=\"tg-c3ow\">0</td>\n",
    "    <td class=\"tg-c3ow\">0</td>\n",
    "  </tr>\n",
    "  <tr>\n",
    "    <td class=\"tg-rvyq\">Light</td>\n",
    "    <td class=\"tg-rvyq\">Medium</td>\n",
    "    <td class=\"tg-c3ow\">0,215</td>\n",
    "    <td class=\"tg-c3ow\">0,463</td>\n",
    "    <td class=\"tg-c3ow\">0,576</td>\n",
    "    <td class=\"tg-c3ow\">0,579</td>\n",
    "    <td class=\"tg-c3ow\">0,58</td>\n",
    "  </tr>\n",
    "  <tr>\n",
    "    <td class=\"tg-rvyq\">Light</td>\n",
    "    <td class=\"tg-rvyq\">Low</td>\n",
    "    <td class=\"tg-c3ow\">0,344</td>\n",
    "    <td class=\"tg-c3ow\">0,437</td>\n",
    "    <td class=\"tg-c3ow\">0,538</td>\n",
    "    <td class=\"tg-c3ow\">0,542</td>\n",
    "    <td class=\"tg-c3ow\">0,544</td>\n",
    "  </tr>\n",
    "  <tr>\n",
    "    <td class=\"tg-rvyq\">Medium<br></td>\n",
    "    <td class=\"tg-rvyq\">Medium</td>\n",
    "    <td class=\"tg-c3ow\">0</td>\n",
    "    <td class=\"tg-c3ow\">0</td>\n",
    "    <td class=\"tg-c3ow\">0</td>\n",
    "    <td class=\"tg-c3ow\">0</td>\n",
    "    <td class=\"tg-c3ow\">0</td>\n",
    "  </tr>\n",
    "  <tr>\n",
    "    <td class=\"tg-rvyq\">Medium</td>\n",
    "    <td class=\"tg-rvyq\">low</td>\n",
    "    <td class=\"tg-c3ow\">0,131</td>\n",
    "    <td class=\"tg-c3ow\">0,276</td>\n",
    "    <td class=\"tg-c3ow\">0,357</td>\n",
    "    <td class=\"tg-c3ow\">0,36</td>\n",
    "    <td class=\"tg-c3ow\">0,362</td>\n",
    "  </tr>\n",
    "  <tr>\n",
    "    <td class=\"tg-rvyq\">Low </td>\n",
    "    <td class=\"tg-rvyq\">Low</td>\n",
    "    <td class=\"tg-c3ow\">0</td>\n",
    "    <td class=\"tg-c3ow\">0</td>\n",
    "    <td class=\"tg-c3ow\">0</td>\n",
    "    <td class=\"tg-c3ow\">0</td>\n",
    "    <td class=\"tg-c3ow\">0</td>\n",
    "  </tr>\n",
    "</table>"
   ]
  },
  {
   "cell_type": "markdown",
   "metadata": {},
   "source": [
    "a. Como se observa, comprar una imágen con ella misma por este método, retorna un 0, sin importar la cantidad de bin's que se utilizen.  \n",
    "  \n",
    "b. También podemos observar que a medida que los bin's aumentan disminuye el error por este método, obteniendo un comportamiento simil a un sistema de primer orden. Veamos:"
   ]
  },
  {
   "cell_type": "code",
   "execution_count": 13,
   "metadata": {},
   "outputs": [
    {
     "name": "stdout",
     "output_type": "stream",
     "text": [
      "Grafica del valor por el método de insercción en función del número de Ben's\n"
     ]
    },
    {
     "data": {
      "image/png": "[encoded data removed]",
      "text/plain": [
       "<Figure size 432x288 with 3 Axes>"
      ]
     },
     "metadata": {
      "needs_background": "light"
     },
     "output_type": "display_data"
    }
   ],
   "source": [
    "x = [2,8,64,128,256]\n",
    "light_medium = [0.215,0.463,0.576,0.579,0.58]\n",
    "light_low = [0.344,0.437,0.538,0.542,0.544]\n",
    "medium_low = [0.131,0.276,0.357,0.360,0.362]\n",
    "print('Grafica del valor por el método de insercción en función del número de Ben\\'s')\n",
    "plt.figure(1)\n",
    "plt.subplot(131), plt.plot(x,light_medium),plt.title('Light vs Medium')\n",
    "plt.subplot(132), plt.plot(x,light_low),plt.title('Light vs Low')\n",
    "plt.subplot(133), plt.plot(x,medium_low),plt.title('Medium vs Low')\n",
    "plt.subplots_adjust(top=0.95, bottom=0.05, left=0.10, right=0.95, hspace=0.25, wspace=0.5)\n",
    "\n",
    "plt.show()"
   ]
  },
  {
   "cell_type": "markdown",
   "metadata": {},
   "source": [
    "---"
   ]
  },
  {
   "cell_type": "markdown",
   "metadata": {},
   "source": [
    "#### Normalizando los histogramas: \n"
   ]
  },
  {
   "cell_type": "markdown",
   "metadata": {},
   "source": [
    "Para la normalización de los histogramas se ha recurrido a diversos métodos de la biblioteca de open Cv, desafortunadamente, estos metodos no dan resultados coherentes al momento de realizar las comparaciones, por ello se recure a la siguiente función:"
   ]
  },
  {
   "cell_type": "code",
   "execution_count": 14,
   "metadata": {},
   "outputs": [],
   "source": [
    "def normalize_histogram(histogram):\n",
    "    v_max = histogram.max()\n",
    "    v_min = histogram.min()\n",
    "    return (histogram - v_min)/(v_max - v_min)"
   ]
  },
  {
   "cell_type": "code",
   "execution_count": 15,
   "metadata": {},
   "outputs": [
    {
     "data": {
      "application/vnd.jupyter.widget-view+json": {
       "model_id": "b4009b4653dd4a1ead5878da2f7a0291",
       "version_major": 2,
       "version_minor": 0
      },
      "text/plain": [
       "interactive(children=(Dropdown(description='bin', options=(256, 128, 64, 32, 16, 8, 4, 2), value=256), Output(…"
      ]
     },
     "metadata": {},
     "output_type": "display_data"
    }
   ],
   "source": [
    "@interact\n",
    "def ploteo_hist(bin=[256,128,64,32,16,8,4,2]):\n",
    "    hist_light = cv2.calcHist([image_light],[0],None,[bin],[0,256])\n",
    "    hist_medium = cv2.calcHist([image_medium],[0],None,[bin],[0,256])\n",
    "    hist_low = cv2.calcHist([image_low],[0],None,[bin],[0,256])   \n",
    "        \n",
    "    hist_light_normalize = normalize_histogram(hist_light)\n",
    "    hist_medium_normalize = normalize_histogram(hist_medium)\n",
    "    hist_low_normalize = normalize_histogram(hist_low)\n",
    "    \n",
    "    plt.figure(1)\n",
    "    plt.subplot(131), plt.plot(range(bin),hist_light_normalize), plt.title('Hist Ligh')\n",
    "    plt.subplot(132), plt.plot(range(bin),hist_medium_normalize), plt.title('Hist Ligh')\n",
    "    plt.subplot(133), plt.plot(range(bin),hist_low_normalize), plt.title('Hist Ligh')\n",
    "\n",
    "    plt.subplots_adjust(top=0.9, bottom=0.1, left=0.10, right=0.95, hspace=0.25, wspace=0.5)\n",
    "\n",
    "    plt.show()"
   ]
  },
  {
   "cell_type": "markdown",
   "metadata": {},
   "source": [
    "---\n",
    "1. Por el método de correlación: "
   ]
  },
  {
   "cell_type": "code",
   "execution_count": 16,
   "metadata": {},
   "outputs": [
    {
     "name": "stdout",
     "output_type": "stream",
     "text": [
      "Por favor escoger la cantidad de BIN'S\n"
     ]
    },
    {
     "data": {
      "application/vnd.jupyter.widget-view+json": {
       "model_id": "d460edfd905e453db0de40b90a60e593",
       "version_major": 2,
       "version_minor": 0
      },
      "text/plain": [
       "interactive(children=(Dropdown(description='bin', options=(256, 128, 64, 32, 16, 8, 4, 2), value=256), Output(…"
      ]
     },
     "metadata": {},
     "output_type": "display_data"
    }
   ],
   "source": [
    "print('Por favor escoger la cantidad de BIN\\'S')\n",
    "\n",
    "@interact\n",
    "def bins_valor(bin=[256,128,64,32,16,8,4,2]):\n",
    "    hist_light = cv2.calcHist([image_light],[0],None,[bin],[0,256])\n",
    "    hist_medium = cv2.calcHist([image_medium],[0],None,[bin],[0,256])\n",
    "    hist_low = cv2.calcHist([image_low],[0],None,[bin],[0,256])   \n",
    "        \n",
    "    hist_light_normalize = normalize_histogram(hist_light)\n",
    "    hist_medium_normalize = normalize_histogram(hist_medium)\n",
    "    hist_low_normalize = normalize_histogram(hist_low)\n",
    "    \n",
    "    correlation_light_light = cv2.compareHist(hist_light_normalize,hist_light_normalize, method=cv2.HISTCMP_CORREL)\n",
    "    correlation_light_medium = cv2.compareHist(hist_light_normalize,hist_medium_normalize, method=cv2.HISTCMP_CORREL)\n",
    "    correlation_light_low = cv2.compareHist(hist_light_normalize,hist_low_normalize, method=cv2.HISTCMP_CORREL)\n",
    "    correlation_medium_medium = cv2.compareHist(hist_medium_normalize,hist_medium_normalize, method=cv2.HISTCMP_CORREL)\n",
    "    correlation_medium_low = cv2.compareHist(hist_medium_normalize,hist_low_normalize, method=cv2.HISTCMP_CORREL)\n",
    "    correlation_low_low = cv2.compareHist(hist_low_normalize,hist_low_normalize, method=cv2.HISTCMP_CORREL)\n",
    "\n",
    "    print('Comparando los histogramas sin normalizar por el método de la correlación se obtiene: ')\n",
    "    print('ligh con light %2.3f'%(correlation_light_light))\n",
    "    print('light con medium %2.3f'%(correlation_light_medium))\n",
    "    print('ligh con low %2.3f'%(correlation_light_low))\n",
    "    print('medium con medium %2.3f'%(correlation_medium_medium))\n",
    "    print('medium con low %2.3f'%(correlation_medium_low))\n",
    "    print('low con low %2.3f'%(correlation_low_low))"
   ]
  },
  {
   "cell_type": "markdown",
   "metadata": {},
   "source": [
    "<style type=\"text/css\">\n",
    ".tg  {border-collapse:collapse;border-spacing:0;border-color:#ccc;margin:0px auto;}\n",
    ".tg td{font-family:Arial, sans-serif;font-size:14px;padding:10px 5px;border-style:solid;border-width:1px;overflow:hidden;word-break:normal;border-color:#ccc;color:#333;background-color:#fff;}\n",
    ".tg th{font-family:Arial, sans-serif;font-size:14px;font-weight:normal;padding:10px 5px;border-style:solid;border-width:1px;overflow:hidden;word-break:normal;border-color:#ccc;color:#333;background-color:#f0f0f0;}\n",
    ".tg .tg-ul38{text-align:left;vertical-align:top;position:sticky;position:-webkit-sticky;top:-1px;will-change:transform}\n",
    ".tg .tg-1wig{font-weight:bold;text-align:left;vertical-align:top}\n",
    ".tg .tg-9wq8{border-color:inherit;text-align:center;vertical-align:middle}\n",
    ".tg .tg-ih3h{border-color:inherit;text-align:center;vertical-align:top;position:sticky;position:-webkit-sticky;top:-1px;will-change:transform}\n",
    ".tg .tg-zyik{font-weight:bold;border-color:inherit;text-align:center;vertical-align:top;position:sticky;position:-webkit-sticky;top:-1px;will-change:transform}\n",
    ".tg .tg-c3ow{border-color:inherit;text-align:center;vertical-align:top}\n",
    ".tg .tg-7btt{font-weight:bold;border-color:inherit;text-align:center;vertical-align:top}\n",
    ".tg .tg-rvyq{font-weight:bold;font-style:italic;border-color:inherit;text-align:center;vertical-align:top}\n",
    ".tg .tg-0lax{text-align:left;vertical-align:top}\n",
    "</style>\n",
    "<table class=\"tg\">\n",
    "  <tr>\n",
    "    <th class=\"tg-ih3h\"></th>\n",
    "    <th class=\"tg-ih3h\"></th>\n",
    "    <th class=\"tg-zyik\">BIN'S<br></th>\n",
    "    <th class=\"tg-ul38\"></th>\n",
    "    <th class=\"tg-ih3h\"></th>\n",
    "    <th class=\"tg-ul38\"></th>\n",
    "    <th class=\"tg-ul38\"></th>\n",
    "    <th class=\"tg-ih3h\"></th>\n",
    "    <th class=\"tg-ih3h\"></th>\n",
    "    <th class=\"tg-ih3h\"></th>\n",
    "  </tr>\n",
    "  <tr>\n",
    "    <td class=\"tg-9wq8\"></td>\n",
    "    <td class=\"tg-c3ow\"></td>\n",
    "    <td class=\"tg-7btt\">2</td>\n",
    "    <td class=\"tg-1wig\">4</td>\n",
    "    <td class=\"tg-7btt\">8</td>\n",
    "    <td class=\"tg-1wig\">16</td>\n",
    "    <td class=\"tg-1wig\">32</td>\n",
    "    <td class=\"tg-7btt\">64</td>\n",
    "    <td class=\"tg-7btt\">128</td>\n",
    "    <td class=\"tg-7btt\">256</td>\n",
    "  </tr>\n",
    "  <tr>\n",
    "    <td class=\"tg-rvyq\">Light</td>\n",
    "    <td class=\"tg-rvyq\">Light</td>\n",
    "    <td class=\"tg-c3ow\">1</td>\n",
    "    <td class=\"tg-0lax\">1</td>\n",
    "    <td class=\"tg-c3ow\">1</td>\n",
    "    <td class=\"tg-0lax\">1</td>\n",
    "    <td class=\"tg-0lax\">1</td>\n",
    "    <td class=\"tg-c3ow\">1</td>\n",
    "    <td class=\"tg-c3ow\">1</td>\n",
    "    <td class=\"tg-c3ow\">1</td>\n",
    "  </tr>\n",
    "  <tr>\n",
    "    <td class=\"tg-rvyq\">Light</td>\n",
    "    <td class=\"tg-rvyq\">Medium</td>\n",
    "    <td class=\"tg-c3ow\">1</td>\n",
    "    <td class=\"tg-0lax\">0,756</td>\n",
    "    <td class=\"tg-c3ow\">0,440</td>\n",
    "    <td class=\"tg-0lax\">0,375</td>\n",
    "    <td class=\"tg-0lax\">0,364</td>\n",
    "    <td class=\"tg-c3ow\">0,349</td>\n",
    "    <td class=\"tg-c3ow\">0,347</td>\n",
    "    <td class=\"tg-c3ow\">0,346</td>\n",
    "  </tr>\n",
    "  <tr>\n",
    "    <td class=\"tg-rvyq\">Light</td>\n",
    "    <td class=\"tg-rvyq\">Low</td>\n",
    "    <td class=\"tg-c3ow\">1</td>\n",
    "    <td class=\"tg-0lax\">0,296</td>\n",
    "    <td class=\"tg-c3ow\">0,638</td>\n",
    "    <td class=\"tg-0lax\">0,563</td>\n",
    "    <td class=\"tg-0lax\">0,533</td>\n",
    "    <td class=\"tg-c3ow\">0,532</td>\n",
    "    <td class=\"tg-c3ow\">0,526</td>\n",
    "    <td class=\"tg-c3ow\">0,524</td>\n",
    "  </tr>\n",
    "  <tr>\n",
    "    <td class=\"tg-rvyq\">Medium<br></td>\n",
    "    <td class=\"tg-rvyq\">Medium</td>\n",
    "    <td class=\"tg-c3ow\">1</td>\n",
    "    <td class=\"tg-0lax\">1</td>\n",
    "    <td class=\"tg-c3ow\">1</td>\n",
    "    <td class=\"tg-0lax\">1</td>\n",
    "    <td class=\"tg-0lax\">1</td>\n",
    "    <td class=\"tg-c3ow\">1</td>\n",
    "    <td class=\"tg-c3ow\">1</td>\n",
    "    <td class=\"tg-c3ow\">1</td>\n",
    "  </tr>\n",
    "  <tr>\n",
    "    <td class=\"tg-rvyq\">Medium</td>\n",
    "    <td class=\"tg-rvyq\">low</td>\n",
    "    <td class=\"tg-c3ow\">1</td>\n",
    "    <td class=\"tg-0lax\">0,834</td>\n",
    "    <td class=\"tg-c3ow\">0,560</td>\n",
    "    <td class=\"tg-0lax\">0,428</td>\n",
    "    <td class=\"tg-0lax\">0,404</td>\n",
    "    <td class=\"tg-c3ow\">0,397</td>\n",
    "    <td class=\"tg-c3ow\">0,396</td>\n",
    "    <td class=\"tg-c3ow\">0,393</td>\n",
    "  </tr>\n",
    "  <tr>\n",
    "    <td class=\"tg-rvyq\">Low </td>\n",
    "    <td class=\"tg-rvyq\">Low</td>\n",
    "    <td class=\"tg-c3ow\">1</td>\n",
    "    <td class=\"tg-0lax\">1</td>\n",
    "    <td class=\"tg-c3ow\">1</td>\n",
    "    <td class=\"tg-0lax\">1</td>\n",
    "    <td class=\"tg-0lax\">1</td>\n",
    "    <td class=\"tg-c3ow\">1</td>\n",
    "    <td class=\"tg-c3ow\">1</td>\n",
    "    <td class=\"tg-c3ow\">1</td>\n",
    "  </tr>\n",
    "</table>"
   ]
  },
  {
   "cell_type": "markdown",
   "metadata": {},
   "source": [
    "#### Comparación de los valores obtenidos segun la cantidad de Bin's usados por el método de correlación:"
   ]
  },
  {
   "cell_type": "markdown",
   "metadata": {},
   "source": [
    "a. Como es de esperarse por el método de la correlación aún con el histograma normalizado, si se compara una imágen con ella misma el método retorna 1.  \n",
    "\n",
    "b. Vemos que al igual que sin normalizar el histograma, a medida que aumenta el número de Bin's usados para el cálculo del histograma disminuye el error del cálculo de la correlación.  \n",
    "c. Vemos que al usar 2 Bin's y aún con el histograma normalizado, el error es tan grande que por el método de correlación significa que todas las imagenes son iguales, lo cual es una falsedad.  \n",
    "d. Se nota también que sin importar la normalización del histograma, se obtienen los mismos valores que sin normalizar el histograma.   \n",
    "\n",
    "---"
   ]
  },
  {
   "cell_type": "markdown",
   "metadata": {},
   "source": [
    "2. Por el método de Chi-Cuadrado"
   ]
  },
  {
   "cell_type": "code",
   "execution_count": 17,
   "metadata": {},
   "outputs": [
    {
     "name": "stdout",
     "output_type": "stream",
     "text": [
      "Por favor escoger la cantidad de BIN'S\n"
     ]
    },
    {
     "data": {
      "application/vnd.jupyter.widget-view+json": {
       "model_id": "64a23fdfec09428eb8351ffedcd9845a",
       "version_major": 2,
       "version_minor": 0
      },
      "text/plain": [
       "interactive(children=(Dropdown(description='bin', options=(256, 128, 64, 32, 16, 8, 4, 2), value=256), Output(…"
      ]
     },
     "metadata": {},
     "output_type": "display_data"
    }
   ],
   "source": [
    "print('Por favor escoger la cantidad de BIN\\'S')\n",
    "\n",
    "@interact\n",
    "def bins_valor(bin=[256,128,64,32,16,8,4,2]):\n",
    "    \n",
    "    hist_light = cv2.calcHist([image_light],[0],None,[bin],[0,256])\n",
    "    hist_medium = cv2.calcHist([image_medium],[0],None,[bin],[0,256])\n",
    "    hist_low = cv2.calcHist([image_low],[0],None,[bin],[0,256])   \n",
    "        \n",
    "    hist_light_normalize = normalize_histogram(hist_light)\n",
    "    hist_medium_normalize = normalize_histogram(hist_medium)\n",
    "    hist_low_normalize = normalize_histogram(hist_low)\n",
    "\n",
    "    correlation_chi_light_light = cv2.compareHist(hist_light_normalize,hist_light_normalize, method=cv2.HISTCMP_CHISQR)\n",
    "    correlation_chi_light_medium = cv2.compareHist(hist_light_normalize,hist_medium_normalize, method=cv2.HISTCMP_CHISQR)\n",
    "    correlation_chi_light_low = cv2.compareHist(hist_light_normalize,hist_low_normalize, method=cv2.HISTCMP_CHISQR)\n",
    "    correlation_chi_medium_medium = cv2.compareHist(hist_medium_normalize,hist_medium_normalize, method=cv2.HISTCMP_CHISQR)\n",
    "    correlation_chi_medium_low = cv2.compareHist(hist_medium_normalize,hist_low_normalize, method=cv2.HISTCMP_CHISQR)\n",
    "    correlation_chi_low_low = cv2.compareHist(hist_low_normalize,hist_low_normalize, method=cv2.HISTCMP_CHISQR)\n",
    "\n",
    "    print('Comparando los histogramas sin normalizar por el método de la correlación se obtiene: ')\n",
    "    print('ligh con light %2.3f'%(correlation_chi_light_light))\n",
    "    print('light con medium %2.3f'%(correlation_chi_light_medium))\n",
    "    print('ligh con low %2.3f'%(correlation_chi_light_low))\n",
    "    print('medium con medium %2.3f'%(correlation_chi_medium_medium))\n",
    "    print('medium con low %2.3f'%(correlation_chi_medium_low))\n",
    "    print('low con low %2.3f'%(correlation_chi_low_low))"
   ]
  },
  {
   "cell_type": "markdown",
   "metadata": {},
   "source": [
    "<style type=\"text/css\">\n",
    ".tg  {border-collapse:collapse;border-spacing:0;border-color:#ccc;margin:0px auto;}\n",
    ".tg td{font-family:Arial, sans-serif;font-size:14px;padding:10px 5px;border-style:solid;border-width:0px;overflow:hidden;word-break:normal;border-color:#ccc;color:#333;background-color:#fff;}\n",
    ".tg th{font-family:Arial, sans-serif;font-size:14px;font-weight:normal;padding:10px 5px;border-style:solid;border-width:0px;overflow:hidden;word-break:normal;border-color:#ccc;color:#333;background-color:#f0f0f0;}\n",
    ".tg .tg-9wq8{border-color:inherit;text-align:center;vertical-align:middle}\n",
    ".tg .tg-ih3h{border-color:inherit;text-align:center;vertical-align:top;position:sticky;position:-webkit-sticky;top:-1px;will-change:transform}\n",
    ".tg .tg-zyik{font-weight:bold;border-color:inherit;text-align:center;vertical-align:top;position:sticky;position:-webkit-sticky;top:-1px;will-change:transform}\n",
    ".tg .tg-c3ow{border-color:inherit;text-align:center;vertical-align:top}\n",
    ".tg .tg-7btt{font-weight:bold;border-color:inherit;text-align:center;vertical-align:top}\n",
    ".tg .tg-rvyq{font-weight:bold;font-style:italic;border-color:inherit;text-align:center;vertical-align:top}\n",
    "</style>\n",
    "<table class=\"tg\">\n",
    "  <tr>\n",
    "    <th class=\"tg-ih3h\"></th>\n",
    "    <th class=\"tg-ih3h\"></th>\n",
    "    <th class=\"tg-zyik\">BIN'S<br></th>\n",
    "    <th class=\"tg-ih3h\"></th>\n",
    "    <th class=\"tg-ih3h\"></th>\n",
    "    <th class=\"tg-ih3h\"></th>\n",
    "    <th class=\"tg-ih3h\"></th>\n",
    "  </tr>\n",
    "  <tr>\n",
    "    <td class=\"tg-9wq8\"></td>\n",
    "    <td class=\"tg-c3ow\"></td>\n",
    "    <td class=\"tg-7btt\">2</td>\n",
    "    <td class=\"tg-7btt\">8</td>\n",
    "    <td class=\"tg-7btt\">64</td>\n",
    "    <td class=\"tg-7btt\">128</td>\n",
    "    <td class=\"tg-7btt\">256</td>\n",
    "  </tr>\n",
    "  <tr>\n",
    "    <td class=\"tg-rvyq\">Light</td>\n",
    "    <td class=\"tg-rvyq\">Light</td>\n",
    "    <td class=\"tg-c3ow\">0</td>\n",
    "    <td class=\"tg-c3ow\">0</td>\n",
    "    <td class=\"tg-c3ow\">0</td>\n",
    "    <td class=\"tg-c3ow\">0</td>\n",
    "    <td class=\"tg-c3ow\">0</td>\n",
    "  </tr>\n",
    "  <tr>\n",
    "    <td class=\"tg-rvyq\">Light</td>\n",
    "    <td class=\"tg-rvyq\">Medium</td>\n",
    "    <td class=\"tg-c3ow\">0</td>\n",
    "    <td class=\"tg-c3ow\">57,756</td>\n",
    "    <td class=\"tg-c3ow\">2217,644</td>\n",
    "    <td class=\"tg-c3ow\">6454,211</td>\n",
    "    <td class=\"tg-c3ow\">8118,759</td>\n",
    "  </tr>\n",
    "  <tr>\n",
    "    <td class=\"tg-rvyq\">Light</td>\n",
    "    <td class=\"tg-rvyq\">Low</td>\n",
    "    <td class=\"tg-c3ow\">0</td>\n",
    "    <td class=\"tg-c3ow\">35,125</td>\n",
    "    <td class=\"tg-c3ow\">853,534</td>\n",
    "    <td class=\"tg-c3ow\">1554,451</td>\n",
    "    <td class=\"tg-c3ow\">2441,874</td>\n",
    "  </tr>\n",
    "  <tr>\n",
    "    <td class=\"tg-rvyq\">Medium<br></td>\n",
    "    <td class=\"tg-rvyq\">Medium</td>\n",
    "    <td class=\"tg-c3ow\">0</td>\n",
    "    <td class=\"tg-c3ow\">0</td>\n",
    "    <td class=\"tg-c3ow\">0</td>\n",
    "    <td class=\"tg-c3ow\">0</td>\n",
    "    <td class=\"tg-c3ow\">0</td>\n",
    "  </tr>\n",
    "  <tr>\n",
    "    <td class=\"tg-rvyq\">Medium</td>\n",
    "    <td class=\"tg-rvyq\">low</td>\n",
    "    <td class=\"tg-c3ow\">0</td>\n",
    "    <td class=\"tg-c3ow\">2,72</td>\n",
    "    <td class=\"tg-c3ow\">21,147</td>\n",
    "    <td class=\"tg-c3ow\">39,192</td>\n",
    "    <td class=\"tg-c3ow\">76,667</td>\n",
    "  </tr>\n",
    "  <tr>\n",
    "    <td class=\"tg-rvyq\">Low </td>\n",
    "    <td class=\"tg-rvyq\">Low</td>\n",
    "    <td class=\"tg-c3ow\">0</td>\n",
    "    <td class=\"tg-c3ow\">0</td>\n",
    "    <td class=\"tg-c3ow\">0</td>\n",
    "    <td class=\"tg-c3ow\">0</td>\n",
    "    <td class=\"tg-c3ow\">0</td>\n",
    "  </tr>\n",
    "</table>"
   ]
  },
  {
   "cell_type": "markdown",
   "metadata": {},
   "source": [
    "1. Vemos que por el método de chi-cuadrado y normalizando el histograma retorna un 0 lo cual quiere decir que existe una coincidencia perfecta.\n",
    "2. Vemos también que normalizar el histograma reduce las cifras obtenidas por este método, de forma que el análisis e interpretación de estos datos es mucho más sencillo.\n",
    "3. También se observa que al aumentar el número de Bin's disminuye el error del método, como se observa con sólo 2 bin's el error es tan grande que el método nos dice que todas las imagenes son las mismas. \n",
    "4. Por último, vemos que la correlación en función de los bin's se comporta como un sistema de primer orden, veamos: "
   ]
  },
  {
   "cell_type": "code",
   "execution_count": 18,
   "metadata": {},
   "outputs": [
    {
     "name": "stdout",
     "output_type": "stream",
     "text": [
      "Grafica del valor por el método de insercción en función del número de Ben's\n"
     ]
    },
    {
     "data": {
      "image/png": "[encoded data removed]",
      "text/plain": [
       "<Figure size 432x288 with 3 Axes>"
      ]
     },
     "metadata": {
      "needs_background": "light"
     },
     "output_type": "display_data"
    }
   ],
   "source": [
    "x = [2,8,64,128,256]\n",
    "light_medium = [0,57.756,2217.644,6454.211,8118.759]\n",
    "light_low = [0,35.125,853.534,1554.451,2441.874]\n",
    "medium_low = [0,2.72,21.147,39.192,76.667]\n",
    "print('Grafica del valor por el método de Chi-Cuadrado en función del número de Ben\\'s')\n",
    "plt.figure(1)\n",
    "plt.subplot(131), plt.plot(x,light_medium),plt.title('Light vs Medium')\n",
    "plt.subplot(132), plt.plot(x,light_low),plt.title('Light vs Low')\n",
    "plt.subplot(133), plt.plot(x,medium_low),plt.title('Medium vs Low')\n",
    "plt.subplots_adjust(top=0.95, bottom=0.05, left=0.10, right=0.95, hspace=0.25, wspace=0.5)\n",
    "\n",
    "plt.show()"
   ]
  },
  {
   "cell_type": "markdown",
   "metadata": {},
   "source": [
    "---"
   ]
  },
  {
   "cell_type": "markdown",
   "metadata": {},
   "source": [
    "3. Por el método de Insercción:"
   ]
  },
  {
   "cell_type": "code",
   "execution_count": 19,
   "metadata": {},
   "outputs": [
    {
     "name": "stdout",
     "output_type": "stream",
     "text": [
      "Por favor escoger la cantidad de BIN'S\n"
     ]
    },
    {
     "data": {
      "application/vnd.jupyter.widget-view+json": {
       "model_id": "dea18f71dd0248928d9e348bedc9400e",
       "version_major": 2,
       "version_minor": 0
      },
      "text/plain": [
       "interactive(children=(Dropdown(description='bin', options=(256, 128, 64, 32, 16, 8, 4, 2), value=256), Output(…"
      ]
     },
     "metadata": {},
     "output_type": "display_data"
    }
   ],
   "source": [
    "print('Por favor escoger la cantidad de BIN\\'S')\n",
    "\n",
    "@interact\n",
    "def bins_valor(bin=[256,128,64,32,16,8,4,2]):\n",
    "    \n",
    "    hist_light = cv2.calcHist([image_light],[0],None,[bin],[0,256])\n",
    "    hist_medium = cv2.calcHist([image_medium],[0],None,[bin],[0,256])\n",
    "    hist_low = cv2.calcHist([image_low],[0],None,[bin],[0,256])   \n",
    "        \n",
    "    hist_light_normalize = normalize_histogram(hist_light)\n",
    "    hist_medium_normalize = normalize_histogram(hist_medium)\n",
    "    hist_low_normalize = normalize_histogram(hist_low)\n",
    "\n",
    "    insertion_light_light = cv2.compareHist(hist_light_normalize,hist_light_normalize, method=cv2.HISTCMP_INTERSECT)\n",
    "    insertion_light_medium = cv2.compareHist(hist_light_normalize,hist_medium_normalize, method=cv2.HISTCMP_INTERSECT)\n",
    "    insertion_light_low = cv2.compareHist(hist_light_normalize,hist_low_normalize, method=cv2.HISTCMP_INTERSECT)\n",
    "    insertion_medium_medium = cv2.compareHist(hist_medium_normalize,hist_medium_normalize, method=cv2.HISTCMP_INTERSECT)\n",
    "    insertion_medium_low = cv2.compareHist(hist_medium_normalize,hist_low_normalize, method=cv2.HISTCMP_INTERSECT)\n",
    "    insertion_low_low = cv2.compareHist(hist_low_normalize,hist_low_normalize, method=cv2.HISTCMP_INTERSECT)\n",
    "\n",
    "    print('Comparando los histogramas sin normalizar por el método de la correlación se obtiene: ')\n",
    "    print('ligh con light %2.3f'%(insertion_light_light))\n",
    "    print('light con medium %2.3f'%(insertion_light_medium))\n",
    "    print('ligh con low %2.3f'%(insertion_light_low))\n",
    "    print('medium con medium %2.3f'%(insertion_medium_medium))\n",
    "    print('medium con low %2.3f'%(insertion_medium_low))\n",
    "    print('low con low %2.3f'%(insertion_low_low))"
   ]
  },
  {
   "cell_type": "markdown",
   "metadata": {},
   "source": [
    "a.  \n",
    "  \n",
    "b.  \n",
    "\n",
    "c. \n"
   ]
  },
  {
   "cell_type": "markdown",
   "metadata": {},
   "source": [
    "----"
   ]
  },
  {
   "cell_type": "markdown",
   "metadata": {},
   "source": [
    "4. Por el método de Distancia de Bhattacharyya"
   ]
  },
  {
   "cell_type": "code",
   "execution_count": 20,
   "metadata": {},
   "outputs": [
    {
     "name": "stdout",
     "output_type": "stream",
     "text": [
      "Por favor escoger la cantidad de BIN'S\n"
     ]
    },
    {
     "data": {
      "application/vnd.jupyter.widget-view+json": {
       "model_id": "94bd765b2e0a4fd59192f3c11cb6780a",
       "version_major": 2,
       "version_minor": 0
      },
      "text/plain": [
       "interactive(children=(Dropdown(description='bin', options=(256, 128, 64, 32, 16, 8, 4, 2), value=256), Output(…"
      ]
     },
     "metadata": {},
     "output_type": "display_data"
    }
   ],
   "source": [
    "print('Por favor escoger la cantidad de BIN\\'S')\n",
    "\n",
    "@interact\n",
    "def bins_valor(bin=[256,128,64,32,16,8,4,2]):\n",
    "    \n",
    "    hist_light = cv2.calcHist([image_light],[0],None,[bin],[0,256])\n",
    "    hist_medium = cv2.calcHist([image_medium],[0],None,[bin],[0,256])\n",
    "    hist_low = cv2.calcHist([image_low],[0],None,[bin],[0,256])   \n",
    "        \n",
    "    hist_light_normalize = normalize_histogram(hist_light)\n",
    "    hist_medium_normalize = normalize_histogram(hist_medium)\n",
    "    hist_low_normalize = normalize_histogram(hist_low)\n",
    "\n",
    "    d_bha_light_light = cv2.compareHist(hist_light_normalize,hist_light_normalize, method=cv2.HISTCMP_BHATTACHARYYA)\n",
    "    d_bha_light_medium = cv2.compareHist(hist_light_normalize,hist_medium_normalize, method=cv2.HISTCMP_BHATTACHARYYA)\n",
    "    d_bha_light_low = cv2.compareHist(hist_light_normalize,hist_low_normalize, method=cv2.HISTCMP_BHATTACHARYYA)\n",
    "    d_bha_medium_medium = cv2.compareHist(hist_medium_normalize,hist_medium_normalize, method=cv2.HISTCMP_BHATTACHARYYA)\n",
    "    d_bha_medium_low = cv2.compareHist(hist_medium_normalize,hist_low_normalize, method=cv2.HISTCMP_BHATTACHARYYA)\n",
    "    d_bha_low_low = cv2.compareHist(hist_low_normalize,hist_low_normalize, method=cv2.HISTCMP_BHATTACHARYYA)\n",
    "\n",
    "    print('Comparando los histogramas sin normalizar por el método de la correlación se obtiene: ')\n",
    "    print('ligh con light %2.3f'%(d_bha_light_light))\n",
    "    print('light con medium %2.3f'%(d_bha_light_medium))\n",
    "    print('ligh con low %2.3f'%(d_bha_light_low))\n",
    "    print('medium con medium %2.3f'%(d_bha_medium_medium))\n",
    "    print('medium con low %2.3f'%(d_bha_medium_low))\n",
    "    print('low con low %2.3f'%(d_bha_low_low))"
   ]
  },
  {
   "cell_type": "markdown",
   "metadata": {},
   "source": [
    "<style type=\"text/css\">\n",
    ".tg  {border-collapse:collapse;border-spacing:0;border-color:#ccc;margin:0px auto;}\n",
    ".tg td{font-family:Arial, sans-serif;font-size:14px;padding:10px 5px;border-style:solid;border-width:0px;overflow:hidden;word-break:normal;border-color:#ccc;color:#333;background-color:#fff;}\n",
    ".tg th{font-family:Arial, sans-serif;font-size:14px;font-weight:normal;padding:10px 5px;border-style:solid;border-width:0px;overflow:hidden;word-break:normal;border-color:#ccc;color:#333;background-color:#f0f0f0;}\n",
    ".tg .tg-9wq8{border-color:inherit;text-align:center;vertical-align:middle}\n",
    ".tg .tg-ih3h{border-color:inherit;text-align:center;vertical-align:top;position:sticky;position:-webkit-sticky;top:-1px;will-change:transform}\n",
    ".tg .tg-zyik{font-weight:bold;border-color:inherit;text-align:center;vertical-align:top;position:sticky;position:-webkit-sticky;top:-1px;will-change:transform}\n",
    ".tg .tg-c3ow{border-color:inherit;text-align:center;vertical-align:top}\n",
    ".tg .tg-7btt{font-weight:bold;border-color:inherit;text-align:center;vertical-align:top}\n",
    ".tg .tg-rvyq{font-weight:bold;font-style:italic;border-color:inherit;text-align:center;vertical-align:top}\n",
    "</style>\n",
    "<table class=\"tg\">\n",
    "  <tr>\n",
    "    <th class=\"tg-ih3h\"></th>\n",
    "    <th class=\"tg-ih3h\"></th>\n",
    "    <th class=\"tg-zyik\">BIN'S<br></th>\n",
    "    <th class=\"tg-ih3h\"></th>\n",
    "    <th class=\"tg-ih3h\"></th>\n",
    "    <th class=\"tg-ih3h\"></th>\n",
    "    <th class=\"tg-ih3h\"></th>\n",
    "  </tr>\n",
    "  <tr>\n",
    "    <td class=\"tg-9wq8\"></td>\n",
    "    <td class=\"tg-c3ow\"></td>\n",
    "    <td class=\"tg-7btt\">2</td>\n",
    "    <td class=\"tg-7btt\">8</td>\n",
    "    <td class=\"tg-7btt\">64</td>\n",
    "    <td class=\"tg-7btt\">128</td>\n",
    "    <td class=\"tg-7btt\">256</td>\n",
    "  </tr>\n",
    "  <tr>\n",
    "    <td class=\"tg-rvyq\">Light</td>\n",
    "    <td class=\"tg-rvyq\">Light</td>\n",
    "    <td class=\"tg-c3ow\">0</td>\n",
    "    <td class=\"tg-c3ow\">0</td>\n",
    "    <td class=\"tg-c3ow\">0</td>\n",
    "    <td class=\"tg-c3ow\">0</td>\n",
    "    <td class=\"tg-c3ow\">0</td>\n",
    "  </tr>\n",
    "  <tr>\n",
    "    <td class=\"tg-rvyq\">Light</td>\n",
    "    <td class=\"tg-rvyq\">Medium</td>\n",
    "    <td class=\"tg-c3ow\">0</td>\n",
    "    <td class=\"tg-c3ow\">0,467</td>\n",
    "    <td class=\"tg-c3ow\">0,578</td>\n",
    "    <td class=\"tg-c3ow\">0,581</td>\n",
    "    <td class=\"tg-c3ow\">0,581</td>\n",
    "  </tr>\n",
    "  <tr>\n",
    "    <td class=\"tg-rvyq\">Light</td>\n",
    "    <td class=\"tg-rvyq\">Low</td>\n",
    "    <td class=\"tg-c3ow\">0</td>\n",
    "    <td class=\"tg-c3ow\">0,438</td>\n",
    "    <td class=\"tg-c3ow\">0,539</td>\n",
    "    <td class=\"tg-c3ow\">0,543</td>\n",
    "    <td class=\"tg-c3ow\">0,544</td>\n",
    "  </tr>\n",
    "  <tr>\n",
    "    <td class=\"tg-rvyq\">Medium<br></td>\n",
    "    <td class=\"tg-rvyq\">Medium</td>\n",
    "    <td class=\"tg-c3ow\">0</td>\n",
    "    <td class=\"tg-c3ow\">0</td>\n",
    "    <td class=\"tg-c3ow\">0</td>\n",
    "    <td class=\"tg-c3ow\">0</td>\n",
    "    <td class=\"tg-c3ow\">0</td>\n",
    "  </tr>\n",
    "  <tr>\n",
    "    <td class=\"tg-rvyq\">Medium</td>\n",
    "    <td class=\"tg-rvyq\">low</td>\n",
    "    <td class=\"tg-c3ow\">0</td>\n",
    "    <td class=\"tg-c3ow\">0,294</td>\n",
    "    <td class=\"tg-c3ow\">0,357</td>\n",
    "    <td class=\"tg-c3ow\">0,36</td>\n",
    "    <td class=\"tg-c3ow\">0,362</td>\n",
    "  </tr>\n",
    "  <tr>\n",
    "    <td class=\"tg-rvyq\">Low </td>\n",
    "    <td class=\"tg-rvyq\">Low</td>\n",
    "    <td class=\"tg-c3ow\">0</td>\n",
    "    <td class=\"tg-c3ow\">0</td>\n",
    "    <td class=\"tg-c3ow\">0</td>\n",
    "    <td class=\"tg-c3ow\">0</td>\n",
    "    <td class=\"tg-c3ow\">0</td>\n",
    "  </tr>\n",
    "</table>"
   ]
  },
  {
   "cell_type": "markdown",
   "metadata": {},
   "source": [
    "a. Vemos que para un histograma normalizado y con 2 Bin's el error aumenta a tal grado que el método nos dice que todas las imagenes son iguales.  \n",
    "  \n",
    "b. Vemos que para un histograma normalizado, al igual que con un histograma sin normalizar, el error del método disminuye a medida que aumentamos el número de Bin's usados.   \n",
    "  \n",
    "c."
   ]
  }
 ],
 "metadata": {
  "kernelspec": {
   "display_name": "Python 3",
   "language": "python",
   "name": "python3"
  },
  "language_info": {
   "codemirror_mode": {
    "name": "ipython",
    "version": 3
   },
   "file_extension": ".py",
   "mimetype": "text/x-python",
   "name": "python",
   "nbconvert_exporter": "python",
   "pygments_lexer": "ipython3",
   "version": "3.7.4"
  }
 },
 "nbformat": 4,
 "nbformat_minor": 2
}
